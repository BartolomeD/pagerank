{
 "cells": [
  {
   "cell_type": "code",
   "execution_count": 1,
   "metadata": {},
   "outputs": [],
   "source": [
    "import numpy as np"
   ]
  },
  {
   "cell_type": "code",
   "execution_count": 94,
   "metadata": {},
   "outputs": [],
   "source": [
    "def ifelse(condition, yes, no):\n",
    "    if condition:\n",
    "        return yes\n",
    "    else:\n",
    "        return no\n",
    "\n",
    "def pagerank(a, p):\n",
    "    \n",
    "    # initialize transition matrix\n",
    "    ncol = a.shape[1]\n",
    "    s = np.repeat(1 / ncol, ncol).reshape(1, -1)\n",
    "    i = 0\n",
    "    \n",
    "    # run markov chain\n",
    "    while True:\n",
    "        \n",
    "        # transition vector at t + 1\n",
    "        t = np.empty(ncol)\n",
    "        for j in range(len(t)):\n",
    "            t[j] = ifelse(sum(a[j, :]) == 0, \n",
    "                1 / ncol, \n",
    "                p / ncol + (1 - p) * sum(a[:, j] * (s[i, :] / np.sum(a, 1))))\n",
    "\n",
    "        s = np.vstack([s, t])\n",
    "        i += 1\n",
    "        \n",
    "        # break if converged\n",
    "        if (i > 0) and (all(np.round(s[i - 1, :], 4) == np.round(s[i, :], 4))):\n",
    "            break\n",
    "    \n",
    "    # return pagerank scores\n",
    "    output = 'Pagerank output:\\n\\nNode\\tScore\\n'\n",
    "    for node in range(ncol):\n",
    "        output += '{}\\t{}\\n'.format(node + 1, round(s[-1, node], 4))\n",
    "    output += '\\nPagerank converged in {} iterations.'.format(i + 1)\n",
    "    return print(output)"
   ]
  },
  {
   "cell_type": "code",
   "execution_count": null,
   "metadata": {},
   "outputs": [],
   "source": [
    "\n"
   ]
  },
  {
   "cell_type": "code",
   "execution_count": 95,
   "metadata": {},
   "outputs": [
    {
     "name": "stdout",
     "output_type": "stream",
     "text": [
      "Pagerank output:\n",
      "\n",
      "Node\tScore\n",
      "1\t0.3214\n",
      "2\t0.2857\n",
      "3\t0.1964\n",
      "4\t0.1964\n",
      "\n",
      "Pagerank converged in 14 iterations.\n"
     ]
    }
   ],
   "source": [
    "a = np.array([[0, 1, 0, 0],\n",
    "              [0, 0, 1, 1],\n",
    "              [1, 0, 0, 0],\n",
    "              [1, 0, 0, 0]])\n",
    "\n",
    "pagerank(a, 0.5)"
   ]
  },
  {
   "cell_type": "code",
   "execution_count": 15,
   "metadata": {},
   "outputs": [],
   "source": [
    "b = np.repeat(1, 10)"
   ]
  },
  {
   "cell_type": "code",
   "execution_count": 12,
   "metadata": {},
   "outputs": [
    {
     "name": "stdout",
     "output_type": "stream",
     "text": [
      "[[4 5 3 7 2 7 5 5 5 5]\n",
      " [9 1 8 8 0 3 4 5 2 8]\n",
      " [6 3 2 8 7 1 8 2 4 9]]\n"
     ]
    }
   ],
   "source": [
    "a = np.random.randint(0, 10, (3, 10))\n",
    "\n",
    "print(a)"
   ]
  },
  {
   "cell_type": "code",
   "execution_count": 16,
   "metadata": {},
   "outputs": [
    {
     "data": {
      "text/plain": [
       "array([[4, 5, 3, 7, 2, 7, 5, 5, 5, 5],\n",
       "       [9, 1, 8, 8, 0, 3, 4, 5, 2, 8],\n",
       "       [6, 3, 2, 8, 7, 1, 8, 2, 4, 9],\n",
       "       [1, 1, 1, 1, 1, 1, 1, 1, 1, 1]])"
      ]
     },
     "execution_count": 16,
     "metadata": {},
     "output_type": "execute_result"
    }
   ],
   "source": [
    "np.vstack([a, b])"
   ]
  },
  {
   "cell_type": "code",
   "execution_count": 14,
   "metadata": {},
   "outputs": [
    {
     "data": {
      "text/plain": [
       "array([19,  9, 13, 23,  9, 11, 17, 12, 11, 22])"
      ]
     },
     "execution_count": 14,
     "metadata": {},
     "output_type": "execute_result"
    }
   ],
   "source": [
    "np.sum(a, 0)"
   ]
  }
 ],
 "metadata": {
  "kernelspec": {
   "display_name": "Python 3",
   "language": "python",
   "name": "python3"
  },
  "language_info": {
   "codemirror_mode": {
    "name": "ipython",
    "version": 3
   },
   "file_extension": ".py",
   "mimetype": "text/x-python",
   "name": "python",
   "nbconvert_exporter": "python",
   "pygments_lexer": "ipython3",
   "version": "3.6.4"
  }
 },
 "nbformat": 4,
 "nbformat_minor": 2
}
